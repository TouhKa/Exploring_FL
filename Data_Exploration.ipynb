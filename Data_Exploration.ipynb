{
  "nbformat": 4,
  "nbformat_minor": 0,
  "metadata": {
    "colab": {
      "name": "Data_Exploration.ipynb",
      "provenance": [],
      "collapsed_sections": []
    },
    "kernelspec": {
      "name": "python3",
      "display_name": "Python 3"
    },
    "language_info": {
      "name": "python"
    }
  },
  "cells": [
    {
      "cell_type": "code",
      "metadata": {
        "id": "dGzf20ebh_EU"
      },
      "source": [
        "import pandas as pd\n",
        "import numpy as np\n",
        "import matplotlib.pyplot as plt\n",
        "import random\n",
        "import statistics"
      ],
      "execution_count": null,
      "outputs": []
    },
    {
      "cell_type": "code",
      "metadata": {
        "id": "iIJ1dj43iNGu"
      },
      "source": [
        "DATA_DIR = \"./data/\"\n",
        "OUT_DIR = \"./out/\"\n",
        "\n",
        "file_app_usages = \"App_usage_trace.txt\""
      ],
      "execution_count": null,
      "outputs": []
    },
    {
      "cell_type": "code",
      "metadata": {
        "id": "1dqqQHZciXqP"
      },
      "source": [
        "def read_traces():\n",
        "  x =[]\n",
        "  with open(DATA_DIR+file_app_usages) as fin:\n",
        "      for idx, line in enumerate(fin):\n",
        "          splitLine = line.rstrip().split()\n",
        "          if idx != 0:\n",
        "              splitLine = np.array([int(i) for i in splitLine])\n",
        "              x.append(splitLine)\n",
        "            \n",
        "  x = np.array(x, dtype=\"int\")\n",
        "  return x "
      ],
      "execution_count": null,
      "outputs": []
    },
    {
      "cell_type": "code",
      "metadata": {
        "id": "LNQFeh3wiUq3",
        "colab": {
          "base_uri": "https://localhost:8080/",
          "height": 277
        },
        "outputId": "7983888a-5c02-4fe8-f5f6-7cf232f62e09"
      },
      "source": [
        " data = read_traces()\n",
        " df = pd.DataFrame(data, columns= [\"User_ID\", \"Timestamp\", \"BaseStation_ID\", \"App_ID\", \"TrafficInBytes\"])\n",
        " df.describe()"
      ],
      "execution_count": null,
      "outputs": [
        {
          "output_type": "execute_result",
          "data": {
            "text/html": [
              "<div>\n",
              "<style scoped>\n",
              "    .dataframe tbody tr th:only-of-type {\n",
              "        vertical-align: middle;\n",
              "    }\n",
              "\n",
              "    .dataframe tbody tr th {\n",
              "        vertical-align: top;\n",
              "    }\n",
              "\n",
              "    .dataframe thead th {\n",
              "        text-align: right;\n",
              "    }\n",
              "</style>\n",
              "<table border=\"1\" class=\"dataframe\">\n",
              "  <thead>\n",
              "    <tr style=\"text-align: right;\">\n",
              "      <th></th>\n",
              "      <th>User_ID</th>\n",
              "      <th>Timestamp</th>\n",
              "      <th>BaseStation_ID</th>\n",
              "      <th>App_ID</th>\n",
              "      <th>TrafficInBytes</th>\n",
              "    </tr>\n",
              "  </thead>\n",
              "  <tbody>\n",
              "    <tr>\n",
              "      <th>count</th>\n",
              "      <td>4.171949e+06</td>\n",
              "      <td>4.171949e+06</td>\n",
              "      <td>4.171949e+06</td>\n",
              "      <td>4.171949e+06</td>\n",
              "      <td>4.171949e+06</td>\n",
              "    </tr>\n",
              "    <tr>\n",
              "      <th>mean</th>\n",
              "      <td>6.895785e+02</td>\n",
              "      <td>2.016042e+13</td>\n",
              "      <td>5.029560e+03</td>\n",
              "      <td>2.064782e+02</td>\n",
              "      <td>1.623634e+04</td>\n",
              "    </tr>\n",
              "    <tr>\n",
              "      <th>std</th>\n",
              "      <td>2.915102e+02</td>\n",
              "      <td>1.970077e+06</td>\n",
              "      <td>2.923542e+03</td>\n",
              "      <td>3.703320e+02</td>\n",
              "      <td>1.290978e+05</td>\n",
              "    </tr>\n",
              "    <tr>\n",
              "      <th>min</th>\n",
              "      <td>0.000000e+00</td>\n",
              "      <td>2.016042e+13</td>\n",
              "      <td>0.000000e+00</td>\n",
              "      <td>1.000000e+00</td>\n",
              "      <td>1.120000e+02</td>\n",
              "    </tr>\n",
              "    <tr>\n",
              "      <th>25%</th>\n",
              "      <td>5.310000e+02</td>\n",
              "      <td>2.016042e+13</td>\n",
              "      <td>2.419000e+03</td>\n",
              "      <td>2.000000e+00</td>\n",
              "      <td>1.159000e+03</td>\n",
              "    </tr>\n",
              "    <tr>\n",
              "      <th>50%</th>\n",
              "      <td>7.780000e+02</td>\n",
              "      <td>2.016042e+13</td>\n",
              "      <td>5.007000e+03</td>\n",
              "      <td>2.900000e+01</td>\n",
              "      <td>2.054000e+03</td>\n",
              "    </tr>\n",
              "    <tr>\n",
              "      <th>75%</th>\n",
              "      <td>9.420000e+02</td>\n",
              "      <td>2.016043e+13</td>\n",
              "      <td>7.639000e+03</td>\n",
              "      <td>2.370000e+02</td>\n",
              "      <td>6.214000e+03</td>\n",
              "    </tr>\n",
              "    <tr>\n",
              "      <th>max</th>\n",
              "      <td>9.990000e+02</td>\n",
              "      <td>2.016043e+13</td>\n",
              "      <td>9.849000e+03</td>\n",
              "      <td>2.000000e+03</td>\n",
              "      <td>2.457579e+07</td>\n",
              "    </tr>\n",
              "  </tbody>\n",
              "</table>\n",
              "</div>"
            ],
            "text/plain": [
              "            User_ID     Timestamp  BaseStation_ID        App_ID  TrafficInBytes\n",
              "count  4.171949e+06  4.171949e+06    4.171949e+06  4.171949e+06    4.171949e+06\n",
              "mean   6.895785e+02  2.016042e+13    5.029560e+03  2.064782e+02    1.623634e+04\n",
              "std    2.915102e+02  1.970077e+06    2.923542e+03  3.703320e+02    1.290978e+05\n",
              "min    0.000000e+00  2.016042e+13    0.000000e+00  1.000000e+00    1.120000e+02\n",
              "25%    5.310000e+02  2.016042e+13    2.419000e+03  2.000000e+00    1.159000e+03\n",
              "50%    7.780000e+02  2.016042e+13    5.007000e+03  2.900000e+01    2.054000e+03\n",
              "75%    9.420000e+02  2.016043e+13    7.639000e+03  2.370000e+02    6.214000e+03\n",
              "max    9.990000e+02  2.016043e+13    9.849000e+03  2.000000e+03    2.457579e+07"
            ]
          },
          "metadata": {
            "tags": []
          },
          "execution_count": 4
        }
      ]
    },
    {
      "cell_type": "markdown",
      "metadata": {
        "id": "DV5RPdwZYJW1"
      },
      "source": [
        "# check the significance of combinations of features"
      ]
    },
    {
      "cell_type": "code",
      "metadata": {
        "colab": {
          "base_uri": "https://localhost:8080/"
        },
        "id": "hhWbJzRBY-lM",
        "outputId": "3fd85233-1418-48d2-e198-bab6dc044c3b"
      },
      "source": [
        "comb_features = [[\"Timestamp\", \"BaseStation_ID\", \"TrafficInBytes\"], [\"Timestamp\", \"BaseStation_ID\"], [\"Timestamp\", \"TrafficInBytes\"], [\"BaseStation_ID\", \"TrafficInBytes\"]]\n",
        "for features in comb_features: \n",
        "  print(features)\n",
        "  res = df.groupby(features)['App_ID'].value_counts() / df.groupby(features)['App_ID'].count()\n",
        "  total_score = 0\n",
        "\n",
        "  for attr, score in res.items():\n",
        "    total_score += score\n",
        "\n",
        "  print(total_score / len(res))"
      ],
      "execution_count": null,
      "outputs": [
        {
          "output_type": "stream",
          "text": [
            "['Timestamp', 'BaseStation_ID', 'TrafficInBytes']\n",
            "0.9987998415129236\n",
            "['Timestamp', 'BaseStation_ID']\n",
            "0.890128037451361\n",
            "['Timestamp', 'TrafficInBytes']\n",
            "0.9970888979409638\n",
            "['BaseStation_ID', 'TrafficInBytes']\n",
            "0.8658570959418311\n"
          ],
          "name": "stdout"
        }
      ]
    },
    {
      "cell_type": "markdown",
      "metadata": {
        "id": "Gyy3ZanKag_Z"
      },
      "source": [
        "# some stats about the distribution of apps and user"
      ]
    },
    {
      "cell_type": "code",
      "metadata": {
        "id": "8qjFavvfEojs",
        "colab": {
          "base_uri": "https://localhost:8080/"
        },
        "outputId": "d1b44266-8a15-46e9-f27a-cfabffb7e197"
      },
      "source": [
        "entries_per_app = df.groupby(\"App_ID\").count()\n",
        "\n",
        "print(f\"Mean entries per app: {round(entries_per_app.mean()['Timestamp'], 2)}\")\n",
        "\n",
        "entries_per_users = df.groupby(\"User_ID\").count()\n",
        "mean_entries = entries_per_users[\"Timestamp\"].mean()\n",
        "max_entries = entries_per_users[\"Timestamp\"].max()\n",
        "print(f\"Mean entries per user: {round(mean_entries, 2)}\")\n",
        "print(f\"Max entries per user: {max_entries}\")\n",
        "\n",
        "apps_per_user = df[[\"User_ID\",\"App_ID\"]].value_counts()\n",
        "mean_apps = apps_per_user.mean()\n",
        "min_apps = apps_per_user.min()\n",
        "max_apps = apps_per_user.max()\n",
        "print(f\"Mean apps per user: {round(mean_apps,2)}\")\n",
        "print(f\"Min apps per user: {min_apps}\")\n",
        "print(f\"Max apps per user: {max_apps}\")"
      ],
      "execution_count": null,
      "outputs": [
        {
          "output_type": "stream",
          "text": [
            "Mean entries per app: 2459.88\n",
            "Mean entries per user: 4789.84\n",
            "Max entries per user: 1098748\n",
            "Mean apps per user: 77.7\n",
            "Min apps per user: 1\n",
            "Max apps per user: 289258\n"
          ],
          "name": "stdout"
        }
      ]
    },
    {
      "cell_type": "markdown",
      "metadata": {
        "id": "RkgQdgx1avfM"
      },
      "source": [
        "# Analyzing the 90% quantile of the most popular apps\n",
        "calculate which app have the most rows <break>\n",
        "\n",
        "get 90% quantile of top apps"
      ]
    },
    {
      "cell_type": "code",
      "metadata": {
        "id": "rp8-mvIbo3vM",
        "colab": {
          "base_uri": "https://localhost:8080/"
        },
        "outputId": "7636bf7d-d1d2-4b59-bca8-37701582dc43"
      },
      "source": [
        "counted_apps = df.loc[:, [\"App_ID\"]].value_counts()\n",
        "print(f\"10 most common apps:\\n\\n {counted_apps[:10]}\\n\")\n",
        "q = 0.9\n",
        "quantile = np.quantile(counted_apps.values, q)\n",
        "print(f\"Quantile threshold: {quantile}\")\n",
        "croped = counted_apps.loc[counted_apps.values >= quantile, :]\n",
        "top_apps = [i[0] for i in croped.index]\n",
        "print(f\"# Top Apps in {q}%-Quantile: {len(top_apps)}\")"
      ],
      "execution_count": null,
      "outputs": [
        {
          "output_type": "stream",
          "text": [
            "10 most common apps:\n",
            "\n",
            " App_ID\n",
            "2         898308\n",
            "1         363187\n",
            "5         215898\n",
            "10        105502\n",
            "4          85708\n",
            "9          83435\n",
            "77         54087\n",
            "29         52220\n",
            "23         48687\n",
            "237        46349\n",
            "dtype: int64\n",
            "\n",
            "Quantile threshold: 2752.5\n",
            "# Top Apps in 0.9%-Quantile: 170\n"
          ],
          "name": "stdout"
        }
      ]
    },
    {
      "cell_type": "code",
      "metadata": {
        "id": "-CaxUHywqxCQ",
        "colab": {
          "base_uri": "https://localhost:8080/"
        },
        "outputId": "cd7ef3c2-be89-4e69-b4c6-14e8d55b3fcf"
      },
      "source": [
        "df_top_apps = df.loc[df[\"App_ID\"].isin(top_apps)]\n",
        "\n",
        "print(f\"Discarded rows: {len(df)- len(df_top_apps)}\")\n",
        "print(f\"Remaining Rows: {len(df_top_apps)}\")"
      ],
      "execution_count": null,
      "outputs": [
        {
          "output_type": "stream",
          "text": [
            "Discarded rows: 781982\n",
            "Remaining Rows: 3389967\n"
          ],
          "name": "stdout"
        }
      ]
    },
    {
      "cell_type": "markdown",
      "metadata": {
        "id": "g3Lvd6ZTbp1s"
      },
      "source": [
        "# Comparison of unique values of features"
      ]
    },
    {
      "cell_type": "code",
      "metadata": {
        "id": "dA85DpCSji64",
        "colab": {
          "base_uri": "https://localhost:8080/"
        },
        "outputId": "2b9d4aec-203e-4954-bb2d-91802a9f16b9"
      },
      "source": [
        "print(\"Original Dataset:\")\n",
        "unique_apps = len(df[\"App_ID\"].unique())\n",
        "print(f\"Unique Apps: {unique_apps}\")\n",
        "\n",
        "unique_user = len(df[\"User_ID\"].unique())\n",
        "print(f\"User: {unique_user}\")\n",
        "\n",
        "unique_bs = len(df[\"BaseStation_ID\"].unique())\n",
        "print(f\"Unique base stations: {unique_bs}\")\n",
        "\n",
        "print(\"\\nTop Apps:\")\n",
        "unique_apps = len(df_top_apps[\"App_ID\"].unique())\n",
        "print(f\"Unique Apps: {unique_apps}\")\n",
        "\n",
        "unique_user = len(df_top_apps[\"User_ID\"].unique())\n",
        "print(f\"User: {unique_user}\")\n",
        "\n",
        "unique_user = len(df_top_apps[\"User_ID\"].unique())\n",
        "print(f\"User: {unique_user}\")\n",
        "\n",
        "unique_bs = len(df_top_apps[\"BaseStation_ID\"].unique())\n",
        "print(f\"Unique base stations: {unique_bs}\")\n",
        "\n",
        "\n",
        "entries_per_users = df_top_apps.groupby(\"User_ID\").count()\n",
        "mean_entries = entries_per_users[\"Timestamp\"].mean()\n",
        "max_entries = entries_per_users[\"Timestamp\"].max()\n",
        "print(f\"Mean entries per user: {round(mean_entries, 2)}\")\n",
        "print(f\"Max entries per user: {max_entries}\")\n",
        "\n",
        "entries_per_app = df_top_apps.groupby(\"App_ID\").count()\n",
        "print(f\"Mean entries per app {round(entries_per_app.mean()['Timestamp'], 2)}\")"
      ],
      "execution_count": null,
      "outputs": [
        {
          "output_type": "stream",
          "text": [
            "Original Dataset:\n",
            "Unique Apps: 1696\n",
            "User: 871\n",
            "Unique base stations: 6739\n",
            "\n",
            "Top Apps:\n",
            "Unique Apps: 170\n",
            "User: 870\n",
            "User: 870\n",
            "Unique base stations: 6666\n",
            "Mean entries per user: 3896.51\n",
            "Max entries per user: 907624\n",
            "Mean entries per app 19940.98\n"
          ],
          "name": "stdout"
        }
      ]
    },
    {
      "cell_type": "code",
      "metadata": {
        "id": "DJP83NYeWULM",
        "colab": {
          "base_uri": "https://localhost:8080/"
        },
        "outputId": "2b30a1d9-e395-44bd-faef-fd0ae39110d7"
      },
      "source": [
        "# min, max, mean, std, var\n",
        "print(\"Original dataset\")\n",
        "print(counted_apps.describe())\n",
        "print(\"\\n\")\n",
        "\n",
        "print(\"Top Apps:\")\n",
        "df_apps_top = df_top_apps[\"App_ID\"].value_counts()\n",
        "print(df_apps_top.describe())\n"
      ],
      "execution_count": null,
      "outputs": [
        {
          "output_type": "stream",
          "text": [
            "Original dataset\n",
            "count      1696.000000\n",
            "mean       2459.875590\n",
            "std       24721.818759\n",
            "min           1.000000\n",
            "25%         113.750000\n",
            "50%         353.000000\n",
            "75%         978.500000\n",
            "max      898308.000000\n",
            "dtype: float64\n",
            "\n",
            "\n",
            "Top Apps:\n",
            "count       170.000000\n",
            "mean      19940.982353\n",
            "std       76058.959982\n",
            "min        2798.000000\n",
            "25%        3807.500000\n",
            "50%        6081.000000\n",
            "75%       11853.250000\n",
            "max      898308.000000\n",
            "Name: App_ID, dtype: float64\n"
          ],
          "name": "stdout"
        }
      ]
    },
    {
      "cell_type": "code",
      "metadata": {
        "id": "XORGFReXHTNl",
        "colab": {
          "base_uri": "https://localhost:8080/"
        },
        "outputId": "6408a0f4-c4a5-43a9-e342-adca384aeb71"
      },
      "source": [
        "\n",
        "agg = df_top_apps.loc[:, [\"User_ID\", \"App_ID\"]].groupby([\"User_ID\"]).nunique()\n",
        "agg = agg.sort_values(by=['App_ID'], ascending=False)\n",
        "agg_quantile = np.quantile(agg.values, 0.95)\n",
        "print(agg_quantile)\n",
        "\n",
        "#df_top_apps[[\"User_ID\",\"App_ID\"]].value_counts().index"
      ],
      "execution_count": null,
      "outputs": [
        {
          "output_type": "stream",
          "text": [
            "58.0\n"
          ],
          "name": "stdout"
        },
        {
          "output_type": "execute_result",
          "data": {
            "text/plain": [
              "User_ID  App_ID\n",
              "942      2         289258\n",
              "         1          96026\n",
              "772      2          94783\n",
              "942      5          61376\n",
              "832      2          38939\n",
              "627      213        32008\n",
              "942      9          25468\n",
              "         10         25392\n",
              "         29         24057\n",
              "         4          23782\n",
              "dtype: int64"
            ]
          },
          "metadata": {
            "tags": []
          },
          "execution_count": 12
        }
      ]
    }
  ]
}