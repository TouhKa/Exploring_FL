{
 "cells": [
  {
   "cell_type": "code",
   "execution_count": null,
   "metadata": {},
   "outputs": [],
   "source": [
    "import pandas as pd\n",
    "import numpy as np\n",
    "import random\n",
    "pd.set_option(\"display.max_columns\", 60)"
   ]
  },
  {
   "cell_type": "code",
   "execution_count": null,
   "metadata": {},
   "outputs": [],
   "source": [
    "columns = [\"User_ID\", \"Geschlecht\", \"Gewicht\", \"Größe\", \"Augenfarbe\", \"Haarfarbe\", \"Alter\", 'Aktivität', 'Chance', \"Infiziert\"]\n",
    "length = 100000\n",
    "df = pd.DataFrame(columns=columns)"
   ]
  },
  {
   "cell_type": "code",
   "execution_count": null,
   "metadata": {},
   "outputs": [],
   "source": [
    "def set_column(values, weights, count = None):\n",
    "    if count == None:\n",
    "        count = length\n",
    "    return np.random.choice(values, size=count, p=weights)\n",
    "\n",
    "def set_random_number(start, end, count):\n",
    "    return np.round(np.random.uniform(start, end, count), 2)\n",
    "    #return start + np.random.sample(count) * end\n",
    "    \n",
    "def set_distribution_column(mean, std, count, astype = 'int32'):\n",
    "    res = np.random.normal(mean, std, count)\n",
    "    if astype == 'float':\n",
    "        res = np.round(res, 2)\n",
    "    else:\n",
    "        res = np.round(res)\n",
    "        \n",
    "    res = res.astype(astype)  \n",
    "    return res\n",
    "\n",
    "def set_random_corona_date(count):\n",
    "    res = []\n",
    "    \n",
    "    for i in range(0, count):\n",
    "        day = np.random.randint(1, 20)\n",
    "        month = np.random.randint(1, 13)\n",
    "        res.append(str(day) + '.' + str(month) + '.2020')\n",
    "    return res\n",
    "\n",
    "def _apply_offset_date(row, rel, mean, std):\n",
    "    split = row[rel].split('.')\n",
    "    \n",
    "    res = np.random.normal(mean, std)\n",
    "    res = np.round(res).astype('int32')\n",
    "    \n",
    "    split[0] = str(int(split[0]) + res)\n",
    "    \n",
    "    return '.'.join(split)\n",
    "\n",
    "def _apply_infiziert(row):\n",
    "    prob = (row['Aktivität'] / 5.0 + row['Chance'] / 5.0) / 2\n",
    "    if prob > 0.5:\n",
    "        return '1'\n",
    "    else:\n",
    "        return '0'\n",
    "    weights = [prob, 1 - prob]\n",
    "    print(weights)\n",
    "    return np.random.choice(['1', '0'], p=weights)"
   ]
  },
  {
   "cell_type": "code",
   "execution_count": null,
   "metadata": {},
   "outputs": [],
   "source": [
    "diff_length = True\n",
    "entriesPerClient = 100\n",
    "lIDs = []\n",
    "clients = int(length/entriesPerClient)\n",
    "\n",
    "if diff_length:\n",
    "    tmp = [[i] * np.random.choice(entriesPerClient) for i in range(0, length)]\n",
    "else:\n",
    "    tmp = [[i] * entriesPerClient for i in range(0, clients)]\n",
    "\n",
    "for row in tmp:\n",
    "    lIDs += row\n",
    "\n",
    "if diff_length:    \n",
    "    random.shuffle(lIDs)\n",
    "    lIDs = lIDs[:length]\n",
    "    lIDs = sorted(lIDs)\n",
    "    if len(lIDs) == length:\n",
    "        df['User_ID'] = lIDs      \n",
    "else:\n",
    "    df['User_ID'] = lIDs"
   ]
  },
  {
   "cell_type": "markdown",
   "metadata": {},
   "source": [
    "### Create \"Infected\"-Dataset"
   ]
  },
  {
   "cell_type": "code",
   "execution_count": null,
   "metadata": {},
   "outputs": [],
   "source": [
    "df['Geschlecht'] = set_column([0, 1], [0.5, 0.5]) # M = 0, #W= 1"
   ]
  },
  {
   "cell_type": "code",
   "execution_count": null,
   "metadata": {},
   "outputs": [],
   "source": [
    "df['Augenfarbe'] = set_column([0, 1, 2, 3], [7/100, 85/100, 7/100, 1/100]) #'Blau', 'Braun', 'Grün', 'Grau'"
   ]
  },
  {
   "cell_type": "code",
   "execution_count": null,
   "metadata": {},
   "outputs": [],
   "source": [
    "df['Haarfarbe'] = set_column([0, 1, 2, 3], [80/100, 10/100, 8/100, 2/100])"
   ]
  },
  {
   "cell_type": "code",
   "execution_count": null,
   "metadata": {},
   "outputs": [],
   "source": [
    "df['Alter'] = set_distribution_column(50, 12, length, 'int32')"
   ]
  },
  {
   "cell_type": "code",
   "execution_count": null,
   "metadata": {},
   "outputs": [],
   "source": [
    "df.loc[df['Geschlecht'] == 1, 'Gewicht'] = set_distribution_column(80, 10, len(df.loc[df['Geschlecht'] == 1]), 'int32')\n",
    "df.loc[df['Geschlecht'] == 0, 'Gewicht'] = set_distribution_column(100, 15, len(df.loc[df['Geschlecht'] == 0]), 'int32')"
   ]
  },
  {
   "cell_type": "code",
   "execution_count": null,
   "metadata": {},
   "outputs": [],
   "source": [
    "df.loc[df['Geschlecht'] == 1, 'Größe'] = set_distribution_column(173, 3, len(df.loc[df['Geschlecht'] == 1]), 'int32')\n",
    "df.loc[df['Geschlecht'] == 0, 'Größe'] = set_distribution_column(185, 6, len(df.loc[df['Geschlecht'] == 0]), 'int32')"
   ]
  },
  {
   "cell_type": "code",
   "execution_count": null,
   "metadata": {},
   "outputs": [],
   "source": [
    "df['Aktivität'] = set_distribution_column(2.5, 0.5, length, 'float')\n",
    "df['Chance'] = set_random_number(0, 5, length)"
   ]
  },
  {
   "cell_type": "code",
   "execution_count": null,
   "metadata": {},
   "outputs": [],
   "source": [
    "df['Infiziert'] = df.apply(lambda row: _apply_infiziert(row), axis=1)"
   ]
  },
  {
   "cell_type": "code",
   "execution_count": null,
   "metadata": {},
   "outputs": [],
   "source": [
    "df.info"
   ]
  },
  {
   "cell_type": "code",
   "execution_count": null,
   "metadata": {},
   "outputs": [],
   "source": [
    "df.to_csv(\"./\" + str(clients) + \"_infected_shuffled.csv\", index=False)"
   ]
  },
  {
   "cell_type": "markdown",
   "metadata": {},
   "source": [
    "### Create random datasets"
   ]
  },
  {
   "cell_type": "code",
   "execution_count": null,
   "metadata": {},
   "outputs": [],
   "source": [
    "columns = [\"User_ID\", \"R1\", \"R2\", \"R3\", \"R4\", \"R6\", \"R7\", \"R8\"]\n",
    "df_r = pd.DataFrame(columns=columns)\n",
    "df_r[\"User_ID\"] = lIDs\n",
    "mu, sigma = 0, 0.1 \n",
    "for col in columns[1:-1]:\n",
    "    df_r[col] = set_distribution_column(mu, sigma, length, astype=\"float\")\n",
    "\n",
    "df_r[columns[-1]] = set_distribution_column(100, 50, length)\n",
    "df_r.to_csv(\"./data/normal_dist.csv\", index=False)\n",
    "print(len(df_r[\"R8\"].unique()))"
   ]
  },
  {
   "cell_type": "code",
   "execution_count": null,
   "metadata": {},
   "outputs": [],
   "source": [
    "columns = [\"User_ID\", \"R1\", \"R2\", \"R3\", \"R4\", \"R6\", \"R7\", \"R8\"]\n",
    "df_r = pd.DataFrame(columns=columns)\n",
    "df_r[\"User_ID\"] = lIDs\n",
    "start, end = 0., 100\n",
    "for col in columns[1:-1]:\n",
    "    df_r[col] = set_random_number(start, end, length)\n",
    "\n",
    "df_r[columns[-1]] = set_distribution_column(30, 15, length,)\n",
    "df_r.to_csv(\"./data/random_dist.csv\", index=False)\n",
    "print(len(df_r[\"R8\"].unique()))"
   ]
  }
 ],
 "metadata": {
  "kernelspec": {
   "display_name": "Python 3",
   "language": "python",
   "name": "python3"
  },
  "language_info": {
   "codemirror_mode": {
    "name": "ipython",
    "version": 3
   },
   "file_extension": ".py",
   "mimetype": "text/x-python",
   "name": "python",
   "nbconvert_exporter": "python",
   "pygments_lexer": "ipython3",
   "version": "3.8.5"
  }
 },
 "nbformat": 4,
 "nbformat_minor": 4
}
