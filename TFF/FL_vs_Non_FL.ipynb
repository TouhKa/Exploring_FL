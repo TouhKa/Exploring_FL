{
 "cells": [
  {
   "cell_type": "code",
   "execution_count": null,
   "metadata": {
    "colab": {
     "base_uri": "https://localhost:8080/"
    },
    "id": "lM4kVhzbR_UK",
    "outputId": "5fe71ef7-10e7-40eb-f292-04da5c6f1d48"
   },
   "outputs": [],
   "source": [
    "!pip install --upgrade tensorflow-federated\n",
    "!pip install nest_asyncio\n",
    "import nest_asyncio\n",
    "nest_asyncio.apply()"
   ]
  },
  {
   "cell_type": "code",
   "execution_count": 5,
   "metadata": {
    "colab": {
     "base_uri": "https://localhost:8080/",
     "height": 135,
     "resources": {
      "http://localhost:8080/nbextensions/google.colab/files.js": {
       "data": "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",
       "headers": [
        [
         "content-type",
         "application/javascript"
        ]
       ],
       "ok": true,
       "status": 200,
       "status_text": ""
      }
     }
    },
    "id": "vbo1O-krQDQh",
    "outputId": "be8a6ae9-0698-4d14-a135-299f90bd9bd0"
   },
   "outputs": [
    {
     "name": "stdout",
     "output_type": "stream",
     "text": [
      "The tensorboard extension is already loaded. To reload it, use:\n",
      "  %reload_ext tensorboard\n"
     ]
    }
   ],
   "source": [
    "import sys\n",
    "IN_COLAB = 'google.colab' in sys.modules\n",
    "\n",
    "if IN_COLAB:\n",
    "    sys.path.append(\"./drive/MyDrive/Colab Notebooks/Projektarbeit_2/\")\n",
    "    BASE_DIR = sys.path[-1]\n",
    "    from google.colab import files\n",
    "    files.upload()\n",
    "\n",
    "else: \n",
    "    BASE_DIR = \"../\"\n",
    "    sys.path.append(BASE_DIR)\n",
    "\n",
    "import json\n",
    "import numpy as np \n",
    "import pandas as pd\n",
    "import tensorflow as tf\n",
    "# import tensorflow_federated as tff\n",
    "from sklearn.model_selection import train_test_split\n",
    "import collections\n",
    "from tensorflow.keras import Model\n",
    "from tensorflow.keras.layers import Dense, Softmax\n",
    "from sklearn.preprocessing import MinMaxScaler, StandardScaler\n",
    "import random\n",
    "import time\n",
    "from Reader import Reader\n",
    "from FLModel import FLModel\n",
    "from Utils import Utils\n",
    "import logging\n",
    "\n",
    "%load_ext tensorboard"
   ]
  },
  {
   "cell_type": "code",
   "execution_count": null,
   "metadata": {
    "id": "fVvL_MUFQ1zV"
   },
   "outputs": [],
   "source": [
    "def read_config():\n",
    "    config_file = BASE_DIR + \"config/config.json\"\n",
    "    config = None\n",
    "    with open(config_file) as json_file:\n",
    "        config = json.loads(json_file.read())\n",
    "    return config\n",
    "\n",
    "def split_input_target(input, target):\n",
    "    return input, target\n",
    "\n",
    "def create_dataset(x, y, use_tff = True):\n",
    "    ds =  tf.data.Dataset.from_tensor_slices((x, y))\n",
    "    \n",
    "    if use_tff:\n",
    "        return (\n",
    "        # Shuffle and form minibatches\n",
    "        ds.repeat(EPOCHS).shuffle(SHUFFLE_BUFFER)\n",
    "        # And finally split into (input, target) tuples\n",
    "        .map(split_input_target)).batch(BATCH_SIZE) \n",
    "    else:\n",
    "        return ds.shuffle(SHUFFLE_BUFFER).batch(BATCH_SIZE) \n",
    "\n",
    "def get_split(x, y):\n",
    "    return train_test_split(x, y, test_size=0.2, random_state=42)\n",
    "\n",
    "def create_unfederated_dataset(x, features):\n",
    "    former_shape = x[:, 1:features].shape\n",
    "    client_x = np.delete( x[:, 1:features], 2, 1 ).reshape(former_shape[0], former_shape[1]-1)\n",
    "    #scale \n",
    "    client_x = scaler.transform(client_x)\n",
    "    client_y = x[:, 3].reshape(-1, 1)\n",
    "    X_train, X_test, y_train, y_test = get_split(client_x, client_y)\n",
    "    print(len(X_train))\n",
    "    train_data = create_dataset(X_train, y_train, SHUFFLE_BUFFER, BATCH_SIZE, use_tff=False)\n",
    "    test_data = create_dataset(X_test, y_test)\n",
    "    return train_data, test_data"
   ]
  },
  {
   "cell_type": "code",
   "execution_count": null,
   "metadata": {
    "colab": {
     "base_uri": "https://localhost:8080/"
    },
    "id": "pbOS_rnORDWI",
    "outputId": "1415ab2a-48d3-4723-a467-5c4e6a146a4c"
   },
   "outputs": [],
   "source": [
    "config = read_config()\n",
    "BATCH_SIZE = config[\"BATCH_SIZE\"]\n",
    "PREFETCH_BUFFER = config[\"PREFETCH_BUFFER\"]\n",
    "SHUFFLE_BUFFER = config[\"SHUFFLE_BUFFER\"]\n",
    "CLIENTS = config[\"CLIENTS\"]\n",
    "DATA_DIR = config[\"DATA_DIR\"]\n",
    "OUT_DIR = config[\"OUT_DIR\"]\n",
    "LOG_DIR = config[\"LOG_DIR\"]\n",
    "EPOCHS = config[\"EPOCHS\"] \n",
    "NUM_CLASSES = config[\"NUM_CLASSES\"]\n",
    "file = config[\"file_top_apps\"]\n",
    "\n",
    "logging.basicConfig(filename= LOG_DIR + 'TFF.log', level=logging.DEBUG)\n",
    "if IN_COLAB:\n",
    "    tf_log_dir = \"/tmp/logs/scalars/training/\"\n",
    "    !rm -R /tmp/logs/scalars/*\n",
    "\n",
    "else:\n",
    "    tf_log_dir = LOG_DIR + \"tensorboard/\"\n",
    "summary_writer = tf.summary.create_file_writer(tf_log_dir)"
   ]
  },
  {
   "cell_type": "code",
   "execution_count": null,
   "metadata": {
    "id": "BNFKDsaxVUVx"
   },
   "outputs": [],
   "source": [
    "entropy_loss = tf.keras.losses.SparseCategoricalCrossentropy()\n",
    "sparseCategoricalAcc = tf.keras.metrics.SparseCategoricalAccuracy()\n",
    "sparseTopKCategoricalAccuracy = tf.keras.metrics.SparseTopKCategoricalAccuracy(k=5)\n",
    "client_optimizer =  tf.keras.optimizers.SGD(learning_rate= 0.6, momentum=0.6, nesterov=True)\n",
    "server_optimzer = tf.keras.optimizers.SGD(learning_rate= 1.0)"
   ]
  },
  {
   "cell_type": "code",
   "execution_count": null,
   "metadata": {
    "colab": {
     "base_uri": "https://localhost:8080/",
     "height": 353
    },
    "id": "96Mh5UtwUTKk",
    "outputId": "4791652a-b324-4c9a-bf8c-2bc1c970d21a"
   },
   "outputs": [],
   "source": [
    "# from client_manager\n",
    "train_data = []\n",
    "test_data = []\n",
    "client_ids = None\n",
    "use_tff = True\n",
    "scaler = StandardScaler()\n",
    "utils = Utils()\n",
    "reader = Reader(BASE_DIR + DATA_DIR, file)\n",
    "data = reader.get_data()\n",
    "\n",
    "if (\"IID\" in file): \n",
    "    data = utils.create_clients(data, CLIENTSs, strict = False)\n",
    "    reader.set_features(reader.get_features() + 1)\n",
    "    client_ids =  [i for i in range(0, CLIENTS)]\n",
    "cols = [i for i in range(0, reader.get_features())]\n",
    "del cols[0]\n",
    "del cols[2]\n",
    "\n",
    "features = reader.get_features()\n",
    "scaler.fit(data[:, cols])\n",
    "if ((file == \"App_usage_trace.txt\") or (file == \"top_90_apps.csv\")): \n",
    "    data  = utils.map_ids(data.copy())\n",
    "    num_of_users = int((np.amax(data[:, 0]) + 1))\n",
    "    client_ids = list(range(0, num_of_users))\n",
    "    logging.info(len(client_ids))\n",
    "    random.shuffle(client_ids)\n",
    "    client_ids = client_ids[:CLIENTS]\n",
    "client_ids = sorted(client_ids)\n",
    "for id in client_ids:\n",
    "    indicees = data[:, 0] == id\n",
    "    former_shape = data[indicees, 1:features].shape\n",
    "    #delete index 0 and 3, containing the label and the user id\n",
    "    client_x = np.delete( data[indicees, 1:features], 2, 1 ).reshape(former_shape[0], former_shape[1]-1)\n",
    "    #scale \n",
    "    client_x = scaler.transform(client_x)\n",
    "    client_y = data[indicees, 3].reshape(-1, 1)\n",
    "    if len(client_x) > 1:\n",
    "        X_train, X_test, y_train, y_test = train_test_split(client_x, client_y, test_size=0.2, random_state=42)    \n",
    "        ds_train = create_dataset(X_train, y_train, use_tff)\n",
    "        ds_test = create_dataset(X_test, y_test, use_tff)\n",
    "        print(\"Client {}: Created  dataset\".format(id))\n",
    "\n",
    "        train_data.append(ds_train)\n",
    "        test_data.append(ds_test)\n",
    "    else:\n",
    "        print(\"Could not generate datasets for client {} as there is just one entry in X_train\".format(id))\n",
    "        client_ids.remove(id)"
   ]
  },
  {
   "cell_type": "code",
   "execution_count": null,
   "metadata": {
    "colab": {
     "base_uri": "https://localhost:8080/"
    },
    "id": "lVFNL9q3N9yQ",
    "outputId": "05ad0dce-c96e-47a0-de23-805d9a059dba"
   },
   "outputs": [],
   "source": [
    "# Check format for TFF: needs to be in shape(None, dim)\n",
    "#like eg:\n",
    "# (TensorSpec(shape=(None, 3), dtype=tf.float64, name=None),\n",
    "#  TensorSpec(shape=(None, 1), dtype=tf.float64, name=None)\n",
    "print(train_data[0].element_spec)\n",
    "print(test_data[0].element_spec)"
   ]
  },
  {
   "cell_type": "code",
   "execution_count": null,
   "metadata": {
    "id": "XMMT1uVrUnuq"
   },
   "outputs": [],
   "source": [
    "def create_keras_model(input_dim=3):\n",
    "    return tf.keras.models.Sequential([\n",
    "      tf.keras.layers.InputLayer(input_shape=(input_dim,)),\n",
    "      tf.keras.layers.Dense(500, activation=tf.nn.relu),\n",
    "      tf.keras.layers.Dense(NUM_CLASSES, activation='softmax'),\n",
    "    ])\n",
    "\n",
    "# Each time the next method is called, the server model is broadcast to each client using a broadcast function. \n",
    "# For each client, one epoch of local training is performed via the tf.keras.optimizers.Optimizer.apply_gradients method of the client optimizer. \n",
    "# Each client computes the difference between the client model after training and the initial broadcast model. \n",
    "# These model deltas are then aggregated at the server using some aggregation function. \n",
    "# The aggregate model delta is applied at the server by using the tf.keras.optimizers.Optimizer.apply_gradients method of the server optimizer.\n",
    "def model_fn():\n",
    "  # We _must_ create a new model here, and _not_ capture it from an external\n",
    "  # scope. TFF will call this within different graph contexts.\n",
    "    keras_model = create_keras_model(3)\n",
    "    return tff.learning.from_keras_model(\n",
    "      keras_model,\n",
    "      input_spec = train_data[0].element_spec,\n",
    "      loss = tf.keras.losses.SparseCategoricalCrossentropy(),\n",
    "      metrics = [tf.keras.metrics.SparseCategoricalAccuracy(), \n",
    "               tf.keras.metrics.SparseTopKCategoricalAccuracy(k=5)]) \n",
    "  \n",
    "def run_federated():\n",
    "    with tf.device('/gpu:0'):\n",
    "    iterative_process = tff.learning.build_federated_averaging_process(\n",
    "        model_fn,\n",
    "        client_optimizer_fn = lambda: tf.keras.optimizers.SGD(learning_rate= 0.6, momentum=0.6, nesterov=True), \n",
    "        server_optimizer_fn = lambda: tf.keras.optimizers.SGD(learning_rate= 1.0)\n",
    "        )\n",
    "\n",
    "    state = iterative_process.initialize()\n",
    "    with summary_writer.as_default():\n",
    "        for round_num in range(EPOCHS):\n",
    "            state, metrics = iterative_process.next(state, train_data)\n",
    "\n",
    "            # Note: training metrics reported by the iterative training process \n",
    "            #generally reflect the performance of the model at the beginning of the training round\n",
    "            for name, value in metrics['train'].items():\n",
    "                tf.summary.scalar(name, value, step=round_num)\n",
    "                print(round_num, name, value)\n",
    "\n",
    "    evaluation = tff.learning.build_federated_evaluation(model_fn)  \n",
    "    test_metrics = evaluation(state.model, test_data)\n",
    "    print(f\"{round_num} Test: {test_metrics}\")"
   ]
  },
  {
   "cell_type": "code",
   "execution_count": null,
   "metadata": {
    "colab": {
     "base_uri": "https://localhost:8080/",
     "height": 605
    },
    "id": "77RS9R1uU1WY",
    "outputId": "4f4fd704-d21f-427d-e06b-ab0ba7e790da"
   },
   "outputs": [],
   "source": [
    "run_federated()"
   ]
  }
 ],
 "metadata": {
  "accelerator": "GPU",
  "colab": {
   "collapsed_sections": [],
   "name": "FL_vs_Non_FL.ipynb",
   "provenance": []
  },
  "kernelspec": {
   "display_name": "Python 3",
   "language": "python",
   "name": "python3"
  },
  "language_info": {
   "codemirror_mode": {
    "name": "ipython",
    "version": 3
   },
   "file_extension": ".py",
   "mimetype": "text/x-python",
   "name": "python",
   "nbconvert_exporter": "python",
   "pygments_lexer": "ipython3",
   "version": "3.8.5"
  }
 },
 "nbformat": 4,
 "nbformat_minor": 1
}
